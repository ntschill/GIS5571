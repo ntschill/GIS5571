{
 "cells": [
  {
   "cell_type": "code",
   "execution_count": 3,
   "metadata": {},
   "outputs": [],
   "source": [
    "import arcpy\n",
    "from arcpy.sa import *\n",
    "import requests\n",
    "import zipfile\n",
    "import os\n",
    "import numpy as np\n",
    "import pandas as pd\n",
    "from scipy.stats import ttest_ind"
   ]
  },
  {
   "cell_type": "code",
   "execution_count": null,
   "metadata": {},
   "outputs": [],
   "source": [
    "#ice velocity data is a .nc file, convert to raster\n",
    "icevel_nc = r\"C:\\Users\\\\schil726\\Downloads\\GIS5571_FinalProj\\data\\Antarctica_ice_velocity_2019_2020_1km_v01.1.nc\"\n",
    "\n",
    "#velocity is in x direction and y direction. need to get layers for both\n",
    "arcpy.md.MakeNetCDFRasterLayer(\n",
    "in_netCDF_file = icevel_nc,\n",
    "variable = \"VX\",\n",
    "x_dimension = \"x\",\n",
    "y_dimension = \"y\")\n",
    "\n",
    "arcpy.md.MakeNetCDFRasterLayer(\n",
    "in_netCDF_file = icevel_nc,\n",
    "variable = \"VY\",\n",
    "x_dimension = \"x\",\n",
    "y_dimension = \"y\")"
   ]
  },
  {
   "cell_type": "code",
   "execution_count": null,
   "metadata": {},
   "outputs": [],
   "source": [
    "#need to calculate magnitude from x and y velocity\n",
    "vx_raster = Raster(r\"C:\\Users\\schil726\\Downloads\\GIS5571_FinalProj\\data\\ice_VX.tif\")\n",
    "vy_raster = Raster(r\"C:\\Users\\schil726\\Downloads\\GIS5571_FinalProj\\data\\ice_VY.tif\")\n",
    "\n",
    "# Calculate speed (magnitude)\n",
    "magnitude_raster = SquareRoot(Power(vx_raster, 2) + Power(vy_raster, 2))\n",
    "\n",
    "magnitude_raster.save(r\"C:\\Users\\schil726\\Downloads\\GIS5571_FinalProj\\data\\ice_magnitude.tif\")"
   ]
  },
  {
   "cell_type": "code",
   "execution_count": null,
   "metadata": {},
   "outputs": [],
   "source": [
    "#bring in dem\n",
    "DEM = Raster(r\"C:\\Users\\schil726\\Downloads\\GIS5571_FinalProj\\data\\PineIsland_REMA_mosaics\\mosaic_dem.tif\")\n",
    "\n",
    "#bring in bedmap2 bed topography\n",
    "bedmap_bedtopo = Raster(r\"C:\\Users\\schil726\\Downloads\\GIS5571_FinalProj\\data\\bedmap2_tiff\\bedmap2_tiff\\bedmap2_bed.tif\")"
   ]
  },
  {
   "cell_type": "code",
   "execution_count": 8,
   "metadata": {},
   "outputs": [],
   "source": [
    "#all 3 rasters are in. We will use the DEM mosaic as a mask to remove unecessary data\n",
    "def clip_by_mask(raster_layers, mask, output_path):\n",
    "        for raster in raster_layers:\n",
    "            out_extract = arcpy.sa.ExtractByMask(\n",
    "                in_raster = raster,\n",
    "                in_mask_data = mask,\n",
    "                extraction_area = \"INSIDE\"\n",
    "                )\n",
    "            out_extract.save(f\"{output_dir}/{raster}_clipped.tif\")\n",
    "        \n",
    "raster_layers = [\"bedmap2_bed.tif\", \"ice_magnitude.tif\"]\n",
    "mask = \"mosaic_dem.tif\"\n",
    "output_dir = r\"C:\\Users\\schil726\\Downloads\\GIS5571_FinalProj\\data\\extracted\"\n",
    "\n",
    "clip_by_mask(raster_layers, mask, output_dir)"
   ]
  },
  {
   "cell_type": "code",
   "execution_count": 9,
   "metadata": {},
   "outputs": [
    {
     "data": {
      "text/html": [
       "<div class='gpresult'><h2>Messages</h2><div id='messages' data-messages='[\"Start Time: Saturday, November 30, 2024 10:15:10 PM\",\"No compatible GPU device has been detected.\",\"Succeeded at Saturday, November 30, 2024 10:17:01 PM (Elapsed Time: 1 minutes 50 seconds)\"]' data-show='true'><div id = 'default' /></div></div>"
      ],
      "text/plain": [
       "<Result 'C:\\\\Users\\\\schil726\\\\Downloads\\\\GIS5571_FinalProj\\\\GIS\\\\GIS\\\\Default.gdb\\\\REMA_slope'>"
      ]
     },
     "execution_count": 9,
     "metadata": {},
     "output_type": "execute_result"
    }
   ],
   "source": [
    "#create slope from surface DEM\n",
    "arcpy.ddd.Slope(\n",
    "    in_raster = \"mosaic_dem.tif\",\n",
    "    out_raster = \"REMA_slope\",\n",
    ")"
   ]
  },
  {
   "cell_type": "code",
   "execution_count": 10,
   "metadata": {},
   "outputs": [
    {
     "data": {
      "text/html": [
       "<div class='gpresult'><h2>Messages</h2><div id='messages' data-messages='[\"Start Time: Saturday, November 30, 2024 10:18:30 PM\",\"No compatible GPU device has been detected.\",\"Succeeded at Saturday, November 30, 2024 10:18:33 PM (Elapsed Time: 2.55 seconds)\"]' data-show='true'><div id = 'default' /></div></div>"
      ],
      "text/plain": [
       "<Result 'C:\\\\Users\\\\schil726\\\\Downloads\\\\GIS5571_FinalProj\\\\GIS\\\\GIS\\\\Default.gdb\\\\bedmap_slope'>"
      ]
     },
     "execution_count": 10,
     "metadata": {},
     "output_type": "execute_result"
    }
   ],
   "source": [
    "#create slope from bed topo\n",
    "arcpy.ddd.Slope(\n",
    "    in_raster = \"bedmap2_bed.tif_clipped.tif\",\n",
    "    out_raster = \"bedmap_slope\",\n",
    ")"
   ]
  },
  {
   "cell_type": "code",
   "execution_count": 14,
   "metadata": {},
   "outputs": [],
   "source": [
    "#lets try a fuzzy reclass\n",
    "#input raster\n",
    "in_raster = \"REMA_slope\"\n",
    "\n",
    "#create FuzzyLinear algorithm object\n",
    "min = 0.001\n",
    "max = 88.93\n",
    "REMAFuzzyAlgorithm = FuzzyLinear(min,max)\n",
    "\n",
    "REMA_fuzzy_slope = FuzzyMembership(\n",
    "    in_raster,\n",
    "    REMAFuzzyAlgorithm\n",
    ")"
   ]
  },
  {
   "cell_type": "code",
   "execution_count": 15,
   "metadata": {},
   "outputs": [
    {
     "data": {
      "text/html": [
       "<div class='gpresult'><h2>Messages</h2><div id='messages' data-messages='[\"Start Time: Saturday, November 30, 2024 11:34:25 PM\",\"Succeeded at Saturday, November 30, 2024 11:35:17 PM (Elapsed Time: 51.23 seconds)\"]' data-show='true'><div id = 'default' /></div></div>"
      ],
      "text/plain": [
       "<Result 'C:\\\\Users\\\\schil726\\\\Downloads\\\\GIS5571_FinalProj\\\\data\\\\reclass\\\\REMA_reclass.tif'>"
      ]
     },
     "execution_count": 15,
     "metadata": {},
     "output_type": "execute_result"
    }
   ],
   "source": [
    "#quick - lets compare with regular reclass\n",
    "arcpy.ddd.Reclassify(\n",
    "    in_raster = \"REMA_slope\",\n",
    "    reclass_field = \"VALUE\",\n",
    "    remap = \"0 1.593 1;1.594 3.287 2;3.288 4.981 3;4.982 88.93 4\",\n",
    "    out_raster = r\"C:\\Users\\schil726\\Downloads\\GIS5571_FinalProj\\data\\reclass\\REMA_reclass.tif\",\n",
    ")"
   ]
  },
  {
   "cell_type": "code",
   "execution_count": 17,
   "metadata": {},
   "outputs": [],
   "source": [
    "#fuzzy reclass looks better\n",
    "#fuzzy reclass for bedmap topo\n",
    "\n",
    "#input raster\n",
    "in_raster = \"bedmap_slope\"\n",
    "\n",
    "#create FuzzyLinear algorithm object\n",
    "min = 0.001\n",
    "max = 15.359\n",
    "bedmapFuzzyAlgorithm = FuzzyLinear(min,max)\n",
    "\n",
    "bedmap_fuzzy_slope = FuzzyMembership(\n",
    "    in_raster,\n",
    "    bedmapFuzzyAlgorithm\n",
    ")"
   ]
  },
  {
   "cell_type": "code",
   "execution_count": 18,
   "metadata": {},
   "outputs": [],
   "source": [
    "#fuzzy reclass for ice magnitude\n",
    "#input raster\n",
    "in_raster = \"ice_magnitude.tif_clipped.tif\"\n",
    "\n",
    "#create FuzzyLinear algorithm object\n",
    "min = 0.041\n",
    "max = 5642.869\n",
    "velocityFuzzyAlgorithm = FuzzyLinear(min,max)\n",
    "\n",
    "icevel_fuzzy_slope = FuzzyMembership(\n",
    "    in_raster,\n",
    "    velocityFuzzyAlgorithm\n",
    ")"
   ]
  },
  {
   "cell_type": "code",
   "execution_count": 21,
   "metadata": {},
   "outputs": [],
   "source": [
    "#weight my layers\n",
    "weight_REMA = 0.4\n",
    "weight_icevel = 0.4\n",
    "weight_bedmap = 0.2\n",
    "\n",
    "#define inputs\n",
    "REMA_raster = \"REMA_fuzzy_slope\"\n",
    "icevel_raster = \"icevel_fuzzy_slope\"\n",
    "bedmap_raster = \"bedmap_fuzzy_slope\"\n",
    "\n",
    "#create cost surface raster\n",
    "weighted_costsurface_multiply = (\n",
    "    (arcpy.sa.Raster(REMA_raster)*weight_REMA) *\n",
    "    (arcpy.sa.Raster(icevel_raster)*weight_icevel) *\n",
    "    (arcpy.sa.Raster(bedmap_raster)*weight_bedmap )\n",
    ")\n",
    "\n",
    "output_costsurface_multiply_raster = r\"C:\\Users\\schil726\\Downloads\\GIS5571_FinalProj\\data\\costsurface\\costsurface_multiply_raster.tif\"\n",
    "weighted_costsurface_multiply.save(output_costsurface_multiply_raster)"
   ]
  },
  {
   "cell_type": "code",
   "execution_count": 25,
   "metadata": {},
   "outputs": [],
   "source": [
    "#weight my layers\n",
    "weight_REMA = 0.4\n",
    "weight_icevel = 0.4\n",
    "weight_bedmap = 0.2\n",
    "\n",
    "#define inputs\n",
    "REMA_raster = \"REMA_fuzzy_slope\"\n",
    "icevel_raster = \"icevel_fuzzy_slope\"\n",
    "bedmap_raster = \"bedmap_fuzzy_slope\"\n",
    "\n",
    "#create cost surface raster (this time add!)\n",
    "weighted_costsurface_add = (\n",
    "    (arcpy.sa.Raster(REMA_raster)*weight_REMA) +\n",
    "    (arcpy.sa.Raster(icevel_raster)*weight_icevel) +\n",
    "    (arcpy.sa.Raster(bedmap_raster)*weight_bedmap )\n",
    ")\n",
    "\n",
    "output_costsurface_add_raster = r\"C:\\Users\\schil726\\Downloads\\GIS5571_FinalProj\\data\\costsurface\\costsurface_add_raster.tif\"\n",
    "weighted_costsurface_add.save(output_costsurface_add_raster)"
   ]
  },
  {
   "cell_type": "code",
   "execution_count": 26,
   "metadata": {},
   "outputs": [],
   "source": [
    "#cost surface is a bit too generalized and influenced by bed topo with addition\n",
    "#i prefer multiplication, but let's try with even weights\n",
    "#weight my layers\n",
    "weight_REMA = 0.33\n",
    "weight_icevel = 0.33\n",
    "weight_bedmap = 0.33\n",
    "\n",
    "#define inputs\n",
    "REMA_raster = \"REMA_fuzzy_slope\"\n",
    "icevel_raster = \"icevel_fuzzy_slope\"\n",
    "bedmap_raster = \"bedmap_fuzzy_slope\"\n",
    "\n",
    "#create cost surface raster (this time add!)\n",
    "evenweighted_costsurface = (\n",
    "    (arcpy.sa.Raster(REMA_raster)*weight_REMA) *\n",
    "    (arcpy.sa.Raster(icevel_raster)*weight_icevel) *\n",
    "    (arcpy.sa.Raster(bedmap_raster)*weight_bedmap )\n",
    ")\n",
    "\n",
    "output_costsurface_raster = r\"C:\\Users\\schil726\\Downloads\\GIS5571_FinalProj\\data\\costsurface\\costsurface_evenweight_raster.tif\"\n",
    "evenweighted_costsurface.save(output_costsurface_raster)"
   ]
  },
  {
   "cell_type": "code",
   "execution_count": 12,
   "metadata": {},
   "outputs": [
    {
     "data": {
      "text/html": [
       "<div class='gpresult'><h2>Messages</h2><div id='messages' data-messages='[\"Start Time: Sunday, December 1, 2024 7:17:08 PM\",\"Succeeded at Sunday, December 1, 2024 7:17:09 PM (Elapsed Time: 1.24 seconds)\"]' data-show='true'><div id = 'default' /></div></div>"
      ],
      "text/plain": [
       "<geoprocessing server result object object at 0x0000016588ABBE10>"
      ]
     },
     "execution_count": 12,
     "metadata": {},
     "output_type": "execute_result"
    }
   ],
   "source": [
    "#assign cost surface vales to crevasse yes/no points\n",
    "arcpy.sa.ExtractValuesToPoints(\n",
    "    in_point_features=\"verification_points\",\n",
    "    in_raster=\"weighted_costsurface_multiply\",\n",
    "    out_point_features=\"crevasse_points_with_values\",\n",
    "    interpolate_values=\"NONE\"\n",
    ")"
   ]
  },
  {
   "cell_type": "code",
   "execution_count": 13,
   "metadata": {},
   "outputs": [
    {
     "data": {
      "text/html": [
       "<div class='gpresult'><h2>Messages</h2><div id='messages' data-messages='[\"Start Time: Sunday, December 1, 2024 7:17:12 PM\",\"Succeeded at Sunday, December 1, 2024 7:17:13 PM (Elapsed Time: 0.14 seconds)\"]' data-show='true'><div id = 'default' /></div></div>"
      ],
      "text/plain": [
       "<Result 'C:\\\\Users\\\\schil726\\\\Downloads\\\\GIS5571_FinalProj\\\\verification\\\\crevasse_verification.csv'>"
      ]
     },
     "execution_count": 13,
     "metadata": {},
     "output_type": "execute_result"
    }
   ],
   "source": [
    "#export to CSV\n",
    "arcpy.conversion.TableToTable(\n",
    "    \"crevasse_points_with_values\",\n",
    "    r\"C:\\Users\\schil726\\Downloads\\GIS5571_FinalProj\\verification\",\n",
    "    \"crevasse_verification.csv\"\n",
    ")"
   ]
  },
  {
   "cell_type": "code",
   "execution_count": 14,
   "metadata": {},
   "outputs": [
    {
     "name": "stdout",
     "output_type": "stream",
     "text": [
      "T-Statistic: 3.9500922364802236, P-Value: 0.000175684610102458\n"
     ]
    }
   ],
   "source": [
    "#use scipy.stats for t-test\n",
    "data = pd.read_csv(r\"C:\\Users\\schil726\\Downloads\\GIS5571_FinalProj\\verification\\crevasse_verification.csv\")\n",
    "\n",
    "#separate cost values for yes/no\n",
    "crevasse_yes = data[data['Crevasse'] == \"Yes\"]['RASTERVALU']\n",
    "crevasse_no = data[data['Crevasse'] == \"No\"]['RASTERVALU']\n",
    "\n",
    "#perform t-test\n",
    "t_stat, p_value = ttest_ind(crevasse_yes, crevasse_no, equal_var=False)\n",
    "print(f\"T-Statistic: {t_stat}, P-Value: {p_value}\")"
   ]
  },
  {
   "cell_type": "code",
   "execution_count": null,
   "metadata": {},
   "outputs": [],
   "source": []
  }
 ],
 "metadata": {
  "kernelspec": {
   "display_name": "ArcGISPro",
   "language": "Python",
   "name": "python3"
  },
  "language_info": {
   "file_extension": ".py",
   "name": "python",
   "version": "3"
  }
 },
 "nbformat": 4,
 "nbformat_minor": 2
}
