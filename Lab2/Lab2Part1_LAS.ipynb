{
 "cells": [
  {
   "cell_type": "markdown",
   "metadata": {},
   "source": [
    "# Lab 2 Part 1: LAS to DEM & TIN"
   ]
  },
  {
   "cell_type": "code",
   "execution_count": 14,
   "metadata": {},
   "outputs": [],
   "source": [
    "import arcpy\n",
    "import requests\n",
    "import os\n",
    "import numpy as np\n",
    "import zipfile"
   ]
  },
  {
   "cell_type": "code",
   "execution_count": 12,
   "metadata": {},
   "outputs": [
    {
     "data": {
      "text/plain": [
       "'W:\\\\GIS5571_Lab2'"
      ]
     },
     "execution_count": 12,
     "metadata": {},
     "output_type": "execute_result"
    }
   ],
   "source": [
    "#set ArcPy Environment\n",
    "arcpy.env.workspace = \"W:\\GIS5571_Lab2\"\n",
    "\n",
    "arcpy.env.workspace"
   ]
  },
  {
   "cell_type": "code",
   "execution_count": 9,
   "metadata": {},
   "outputs": [
    {
     "name": "stdout",
     "output_type": "stream",
     "text": [
      "downloaded las file\n"
     ]
    }
   ],
   "source": [
    "#define LAS url\n",
    "elevation_url = 'https://resources.gisdata.mn.gov/pub/data/elevation/lidar/examples/lidar_sample/las/4342-13-03.las'\n",
    "\n",
    "#set path\n",
    "laspath = \"W:\\GIS5571_Lab2\\las\\MN_elevation.las\"\n",
    "#make call\n",
    "response = requests.get(elevation_url)\n",
    "\n",
    "#save locally\n",
    "with open(laspath, \"wb\") as las_file:\n",
    "    las_file.write(response.content)\n",
    "    \n",
    "print(\"downloaded las file\")"
   ]
  },
  {
   "cell_type": "code",
   "execution_count": 15,
   "metadata": {},
   "outputs": [
    {
     "data": {
      "text/html": [
       "<div class='gpresult'><h2>Messages</h2><div id='messages' data-messages='[\"Start Time: Sunday, October 27, 2024 7:37:45 PM\",\"Succeeded at Sunday, October 27, 2024 7:37:53 PM (Elapsed Time: 7.43 seconds)\"]' data-show='true'><div id = 'default' /></div></div>"
      ],
      "text/plain": [
       "<Result 'W:\\\\GIS5571_Lab2\\\\las\\\\MN_elevation_lasdataset.lasd'>"
      ]
     },
     "execution_count": 15,
     "metadata": {},
     "output_type": "execute_result"
    }
   ],
   "source": [
    "#create las dataset\n",
    "arcpy.management.CreateLasDataset(\"W:\\GIS5571_Lab2\\las\\MN_elevation.las\", \"W:\\GIS5571_Lab2\\las\\MN_elevation_lasdataset.lasd\", \"NO_RECURSION\", None, 'PROJCS[\"datum_D_North_American_1983_HARN_UTM_Zone_15N\",GEOGCS[\"GCS_datum_D_North_American_1983_HARN\",DATUM[\"D_unknown\",SPHEROID[\"GRS_1980\",6378137.0,298.257222101]],PRIMEM[\"Greenwich\",0.0],UNIT[\"Degree\",0.0174532925199433]],PROJECTION[\"Transverse_Mercator\"],PARAMETER[\"false_easting\",500000.0],PARAMETER[\"false_northing\",0.0],PARAMETER[\"central_meridian\",-93.0],PARAMETER[\"scale_factor\",0.9996],PARAMETER[\"latitude_of_origin\",0.0],UNIT[\"Meter\",1.0]],VERTCS[\"NAVD88 - Geoid03 (Meters)\",VDATUM[\"unknown\"],PARAMETER[\"Vertical_Shift\",0.0],PARAMETER[\"Direction\",1.0],UNIT[\"Meter\",1.0]]', \"COMPUTE_STATS\", \"ABSOLUTE_PATHS\", \"ALL_FILES\", \"DEFAULT\", None, \"INTERSECTED_FILES\")"
   ]
  },
  {
   "cell_type": "code",
   "execution_count": 19,
   "metadata": {},
   "outputs": [
    {
     "data": {
      "text/html": [
       "<div class='gpresult'><h2>Messages</h2><div id='messages' data-messages='[\"Start Time: Sunday, October 27, 2024 7:47:35 PM\",\"Succeeded at Sunday, October 27, 2024 7:48:06 PM (Elapsed Time: 30.60 seconds)\"]' data-show='true'><div id = 'default' /></div></div>"
      ],
      "text/plain": [
       "<Result 'W:\\\\GIS5571_Lab2\\\\las\\\\MN_elevationDEM.tif'>"
      ]
     },
     "execution_count": 19,
     "metadata": {},
     "output_type": "execute_result"
    }
   ],
   "source": [
    "#convert lasd to DEM\n",
    "arcpy.conversion.LasDatasetToRaster(\"W:\\GIS5571_Lab2\\las\\MN_elevation_lasdataset.lasd\", \"W:\\GIS5571_Lab2\\las\\MN_elevationDEM.tif\",\"ELEVATION\")"
   ]
  },
  {
   "cell_type": "code",
   "execution_count": 20,
   "metadata": {},
   "outputs": [
    {
     "data": {
      "text/html": [
       "<div class='gpresult'><h2>Messages</h2><div id='messages' data-messages='[\"Start Time: Sunday, October 27, 2024 7:55:35 PM\",\"Succeeded at Sunday, October 27, 2024 7:56:08 PM (Elapsed Time: 32.83 seconds)\"]' data-show='true'><div id = 'default' /></div></div>"
      ],
      "text/plain": [
       "<Result 'W:\\\\GIS5571_Lab2\\\\las\\\\MN_elevationTIN.adf'>"
      ]
     },
     "execution_count": 20,
     "metadata": {},
     "output_type": "execute_result"
    }
   ],
   "source": [
    "#convert lasd to TIN\n",
    "arcpy.ddd.LasDatasetToTin(\"W:\\GIS5571_Lab2\\las\\MN_elevation_lasdataset.lasd\", \"W:\\GIS5571_Lab2\\las\\MN_elevationTIN.adf\", \"WINDOW_SIZE\",\"\",None,50000,1,\"CLIP\")"
   ]
  },
  {
   "cell_type": "code",
   "execution_count": 3,
   "metadata": {},
   "outputs": [
    {
     "data": {
      "text/plain": [
       "'W:\\\\GIS5571_Lab2\\\\pdfs\\\\MN_elevation_TIN.pdf'"
      ]
     },
     "execution_count": 3,
     "metadata": {},
     "output_type": "execute_result"
    }
   ],
   "source": [
    "#Export PDF of TIN w/ correct visualization\n",
    "#using arcpy.mp\n",
    "aprx = arcpy.mp.ArcGISProject(\"CURRENT\")\n",
    "TIN_lyt = aprx.listLayouts(\"TIN_Layout\")[0]\n",
    "TIN_lyt.exportToPDF(\"W:\\GIS5571_Lab2\\pdfs\\MN_elevation_TIN.pdf\")"
   ]
  },
  {
   "cell_type": "code",
   "execution_count": 2,
   "metadata": {},
   "outputs": [
    {
     "data": {
      "text/plain": [
       "'W:\\\\GIS5571_Lab2\\\\pdfs\\\\MN_elevation_DEM.pdf'"
      ]
     },
     "execution_count": 2,
     "metadata": {},
     "output_type": "execute_result"
    }
   ],
   "source": [
    "#Export PDF of DEM w/ correct visualization\n",
    "#using arcpy.mp\n",
    "aprx = arcpy.mp.ArcGISProject(\"CURRENT\")\n",
    "DEM_lyt = aprx.listLayouts(\"DEM_Layout\")[0]\n",
    "DEM_lyt.exportToPDF(\"W:\\GIS5571_Lab2\\pdfs\\MN_elevation_DEM.pdf\")"
   ]
  }
 ],
 "metadata": {
  "kernelspec": {
   "display_name": "ArcGISPro",
   "language": "Python",
   "name": "python3"
  },
  "language_info": {
   "file_extension": ".py",
   "name": "python",
   "version": "3"
  }
 },
 "nbformat": 4,
 "nbformat_minor": 2
}
