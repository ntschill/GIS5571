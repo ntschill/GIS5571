{
 "cells": [
  {
   "cell_type": "markdown",
   "metadata": {},
   "source": [
    "# Lab 2 Part 1: PRISM & Spacetime Cube"
   ]
  },
  {
   "cell_type": "code",
   "execution_count": 9,
   "metadata": {},
   "outputs": [],
   "source": [
    "import arcpy\n",
    "import requests\n",
    "import os\n",
    "import numpy as np\n",
    "import zipfile"
   ]
  },
  {
   "cell_type": "code",
   "execution_count": 11,
   "metadata": {},
   "outputs": [
    {
     "name": "stdout",
     "output_type": "stream",
     "text": [
      "downloaded prism zip\n"
     ]
    }
   ],
   "source": [
    "#define and call url\n",
    "prism_url = 'https://www.prism.oregonstate.edu/fetchData.php?type=all_bil&kind=normals&spatial=4km&elem=ppt&temporal=annual'\n",
    "#set path\n",
    "prismpath = 'C:/Users/schil726/Downloads/GIS5571_Lab2/prism/precip_30y_normals.zip'\n",
    "#make call\n",
    "prism_response = requests.get(prism_url)\n",
    "#save locally\n",
    "with open(prismpath, 'wb') as file:\n",
    "    file.write(prism_response.content)\n",
    "print(\"downloaded prism zip\")"
   ]
  },
  {
   "cell_type": "code",
   "execution_count": 12,
   "metadata": {},
   "outputs": [],
   "source": [
    "#extract the prism zip\n",
    "with zipfile.ZipFile(prismpath, 'r') as zip_ref:\n",
    "    zip_ref.extractall('C:/Users/schil726/Downloads/GIS5571_Lab2/prism/BIL/')"
   ]
  },
  {
   "cell_type": "code",
   "execution_count": 18,
   "metadata": {},
   "outputs": [
    {
     "data": {
      "text/html": [
       "<div class='gpresult'><h2>Messages</h2><div id='messages' data-messages='[\"Start Time: Monday, October 28, 2024 10:26:54 PM\",\"Succeeded at Monday, October 28, 2024 10:26:59 PM (Elapsed Time: 5.53 seconds)\"]' data-show='true'><div id = 'default' /></div></div>"
      ],
      "text/plain": [
       "<Result 'C:\\\\Users\\\\schil726\\\\Documents\\\\ArcGIS\\\\Projects\\\\GIS5571_Lab2\\\\GIS5571_Lab2.gdb\\\\PRISM_mosaic'>"
      ]
     },
     "execution_count": 18,
     "metadata": {},
     "output_type": "execute_result"
    }
   ],
   "source": [
    "#create empty mosaic dataset then add all BIL files\n",
    "arcpy.management.CreateMosaicDataset(\n",
    "    in_workspace = \"C:/Users/schil726/Documents/ArcGIS/Projects/GIS5571_Lab2/GIS5571_Lab2.gdb\",\n",
    "    in_mosaicdataset_name = \"PRISM_mosaic\",\n",
    "    coordinate_system = arcpy.SpatialReference(102003)\n",
    ")"
   ]
  },
  {
   "cell_type": "code",
   "execution_count": 19,
   "metadata": {},
   "outputs": [
    {
     "data": {
      "text/html": [
       "<div class='gpresult'><h2>Messages</h2><div id='messages' data-messages='[\"Start Time: Monday, October 28, 2024 10:27:00 PM\",\"2024-10-28T22:27:01.681: Loading raster datasets\",\"2024-10-28T22:27:01.742: Completed crawling 13 data source items. Added 13 mosaic dataset items.\",\"2024-10-28T22:27:01.744: Synchronizing crawled data source items\",\"2024-10-28T22:27:01.755: Synchronizing items associated with raster type instance &#39;Raster Dataset&#39; [ID: 1].\",\"2024-10-28T22:27:01.759: Distributing mosaic dataset operation across 4 parallel instances on the specified host: [PGC-MINIUM].\",\"2024-10-28T22:27:12.863: Estimating raster statistics for mosaic dataset.\",\"2024-10-28T22:27:12.931: Completed synchronization: 13 items selected, 13 items synchronized.\",\"2024-10-28T22:27:12.933: Processing duplicate mosaic dataset items\",\"2024-10-28T22:27:12.941: Removed 0 duplicate mosaic dataset items.\",\"2024-10-28T22:27:13.090: Computing cell size levels\",\"2024-10-28T22:27:13.090: Computing unique cell size values\",\"2024-10-28T22:27:13.134: Computing maximum cell size values\",\"2024-10-28T22:27:13.136: Computing minimum cell size values\",\"2024-10-28T22:27:13.139: Updating visibility values of selected items\",\"2024-10-28T22:27:13.148: Computing maximum cell size for mosaic dataset\",\"2024-10-28T22:27:13.152: Completed computing cell size ranges.\",\"2024-10-28T22:27:13.192: Completed building boundary.\",\"Succeeded at Monday, October 28, 2024 10:27:15 PM (Elapsed Time: 15.35 seconds)\"]' data-show='true'><div id = 'default' /></div></div>"
      ],
      "text/plain": [
       "<Result 'C:/Users/schil726/Documents/ArcGIS/Projects/GIS5571_Lab2/GIS5571_Lab2.gdb/PRISM_mosaic'>"
      ]
     },
     "execution_count": 19,
     "metadata": {},
     "output_type": "execute_result"
    }
   ],
   "source": [
    "#add BIL files to dataset\n",
    "arcpy.management.AddRastersToMosaicDataset(\n",
    "    in_mosaic_dataset = \"C:/Users/schil726/Documents/ArcGIS/Projects/GIS5571_Lab2/GIS5571_Lab2.gdb/PRISM_mosaic\",\n",
    "    raster_type = \"Raster Dataset\",\n",
    "    input_path = \"C:/Users/schil726/Downloads/GIS5571_Lab2/prism/BIL\",\n",
    "    sub_folder = \"SUBFOLDERS\",\n",
    "    duplicate_items_action = \"EXCLUDE_DUPLICATES\",\n",
    "    build_pyramids = \"BUILD_PYRAMIDS\",\n",
    "    calculate_statistics = \"CALCULATE_STATISTICS\",\n",
    "    force_spatial_reference = \"NO_FORCE_SPATIAL_REFERENCE\",\n",
    "    estimate_statistics = \"ESTIMATE_STATISTICS\",\n",
    ")"
   ]
  },
  {
   "cell_type": "code",
   "execution_count": 25,
   "metadata": {},
   "outputs": [
    {
     "data": {
      "text/html": [
       "<div class='gpresult'><h2>Messages</h2><div id='messages' data-messages='[\"Start Time: Monday, October 28, 2024 10:46:31 PM\",\"Succeeded at Monday, October 28, 2024 10:46:31 PM (Elapsed Time: 0.52 seconds)\"]' data-show='true'><div id = 'default' /></div></div>"
      ],
      "text/plain": [
       "<Result 'PRISM_mosaic\\\\Footprint'>"
      ]
     },
     "execution_count": 25,
     "metadata": {},
     "output_type": "execute_result"
    }
   ],
   "source": [
    "#calculate variable field\n",
    "arcpy.management.CalculateField(\n",
    "    in_table = \"PRISM_mosaic/Footprint\",\n",
    "    field = \"Variable\",\n",
    "    expression = '\"Precipitation\"',\n",
    "    code_block = \"\",\n",
    "    expression_type = \"PYTHON3\",\n",
    "    field_type = \"TEXT\",\n",
    ")"
   ]
  },
  {
   "cell_type": "code",
   "execution_count": 29,
   "metadata": {},
   "outputs": [
    {
     "data": {
      "text/html": [
       "<div class='gpresult'><h2>Messages</h2><div id='messages' data-messages='[\"Start Time: Monday, October 28, 2024 10:54:23 PM\",\"Succeeded at Monday, October 28, 2024 10:54:23 PM (Elapsed Time: 0.24 seconds)\"]' data-show='true'><div id = 'default' /></div></div>"
      ],
      "text/plain": [
       "<Result 'PRISM_mosaic\\\\Footprint'>"
      ]
     },
     "execution_count": 29,
     "metadata": {},
     "output_type": "execute_result"
    }
   ],
   "source": [
    "#calculate timestamp field\n",
    "arcpy.management.CalculateField(\n",
    "    in_table = \"PRISM_mosaic/Footprint\",\n",
    "    field = \"Timestamp\", \n",
    "    expression = \"DateAdd(Date(2024, 0, 1), $feature.OBJECTID-4, 'month')\",\n",
    "    expression_type = \"ARCADE\",\n",
    "    code_block = \"\", \n",
    "    field_type = \"DATE\",\n",
    ")"
   ]
  },
  {
   "cell_type": "code",
   "execution_count": 31,
   "metadata": {},
   "outputs": [
    {
     "data": {
      "text/html": [
       "<div class='gpresult'><h2>Messages</h2><div id='messages' data-messages='[\"Start Time: Monday, October 28, 2024 10:56:07 PM\",\"Succeeded at Monday, October 28, 2024 10:56:09 PM (Elapsed Time: 2.60 seconds)\"]' data-show='true'><div id = 'default' /></div></div>"
      ],
      "text/plain": [
       "<Result 'PRISM_mosaic'>"
      ]
     },
     "execution_count": 31,
     "metadata": {},
     "output_type": "execute_result"
    }
   ],
   "source": [
    "#build multidimensional info\n",
    "arcpy.management.BuildMultidimensionalInfo(\n",
    "    in_mosaic_dataset = \"PRISM_mosaic\",\n",
    "    variable_field = \"Variable\",\n",
    "    dimension_fields = \"Timestamp\",\n",
    ")"
   ]
  },
  {
   "cell_type": "code",
   "execution_count": 32,
   "metadata": {},
   "outputs": [
    {
     "data": {
      "text/html": [
       "<div class='gpresult'><h2>Messages</h2><div id='messages' data-messages='[\"Start Time: Monday, October 28, 2024 11:00:28 PM\",\"Succeeded at Monday, October 28, 2024 11:00:30 PM (Elapsed Time: 2.14 seconds)\"]' data-show='true'><div id = 'default' /></div></div>"
      ],
      "text/plain": [
       "<Result 'Multidimensional_PRISM'>"
      ]
     },
     "execution_count": 32,
     "metadata": {},
     "output_type": "execute_result"
    }
   ],
   "source": [
    "#make multidimensional raster layer\n",
    "arcpy.md.MakeMultidimensionalRasterLayer(\n",
    "    in_multidimensional_raster = \"PRISM_mosaic\",\n",
    "    out_multidimensional_raster_layer = \"Multidimensional_PRISM\",\n",
    "    template = \"DISPLAY\",\n",
    ")"
   ]
  },
  {
   "cell_type": "code",
   "execution_count": 33,
   "metadata": {},
   "outputs": [
    {
     "data": {
      "text/html": [
       "<div class='gpresult'><h2>Messages</h2><div id='messages' data-messages='[\"Start Time: Monday, October 28, 2024 11:04:17 PM\",\"WARNING 110013: The default Time Step Interval is 1 month.\",{\"element\":\"content\",\"data\":\"The space time cube has aggregated 602788967 points into 887836 fishnet grid locations over 13 time step intervals.  Each location is a 4638.31 meters by 4638.31 meters square.  The entire space time cube spans an area 5950954.45 meters west to east and 3209711.98 meters north to south.  Each of the time step intervals is 1 month in duration so the entire time period covered by the space time cube is 13 months.  Of the 887836 total locations, 370073 (41.68%) contain at least one point for at least one time step interval.  These 370073 locations comprise 4810949 space time bins of which 11536779 (239.80%) have point counts greater than zero.  There is not a statistically significant increase or decrease in point counts over time.\"},[{\"element\":\"table\",\"data\":[[{\"data\":\"Input feature time extent\",\"prop\":{\"rowspan\":2}},\"2023-10-01 00:00:00\"],[{\"data\":\"to 2024-10-01 00:00:00\",\"prop\":{\"text-align\":\"right\"}}],[\"\",\"\"],[\"Number of time steps\",\"13\"],[\"Time step interval\",\"1 month\"],[\"Time step alignment\",\"End\"],[\"\",\"\"],[\"First time step temporal bias\",\"100.00%\"],[{\"data\":\"First time step interval\",\"prop\":{\"rowspan\":4}},\"after\"],[{\"data\":\"2023-09-01 00:00:00\",\"prop\":{\"text-align\":\"right\"}}],[{\"data\":\"to on or before\",\"prop\":{\"text-align\":\"right\"}}],[{\"data\":\"2023-10-01 00:00:00\",\"prop\":{\"text-align\":\"right\"}}],[\"\",\"\"],[\"Last time step temporal bias\",\"0.00%\"],[{\"data\":\"Last time step interval\",\"prop\":{\"rowspan\":4}},\"after\"],[{\"data\":\"2024-09-01 00:00:00\",\"prop\":{\"text-align\":\"right\"}}],[{\"data\":\"to on or before\",\"prop\":{\"text-align\":\"right\"}}],[{\"data\":\"2024-10-01 00:00:00\",\"prop\":{\"text-align\":\"right\"}}],[\"\",\"\"],[\"Coordinate System\",\"USA Contiguous Albers Equal Area Conic\"],[\"Cube extent across space\",\"(coordinates in meters)\"],[\"Min X\",\"-2950369.1484\"],[\"Min Y\",\"-1493460.2879\"],[\"Max X\",\"3000585.2970\"],[\"Max Y\",\"1716251.6967\"],[\"Rows\",\"692\"],[\"Columns\",\"1283\"],[\"Total bins\",\"11541868\"]],\"elementProps\":{\"striped\":\"true\",\"noHeader\":true,\"title\":\"Space Time Cube Characteristics\",\"0\":{\"align\":\"left\",\"pad\":\"0px\",\"wrap\":true},\"1\":{\"align\":\"right\",\"pad\":\"0px\",\"wrap\":true}}}],[{\"element\":\"table\",\"data\":[[\"% of locations excluded due to unfilled bins\",\"517763 (  58.32%)\"],[\"- Total number\",\"517763\"],[\"Total number of locations\",\"370073\"],[\"- associated bins\",\"4810949\"],[\"% of included locations with estimated bins\",\"  3.10%\"],[\"- Total number\",\"11463\"],[\"% of all bins that were estimated\",\"  0.33%\"],[\"- Total number\",\"15650\"]],\"elementProps\":{\"striped\":\"true\",\"title\":\"Summary Field - PRECIPITATION_NONE_SPATIAL_NEIGHBORS\",\"0\":{\"align\":\"left\",\"pad\":\"0px\",\"wrap\":true},\"1\":{\"align\":\"right\",\"pad\":\"0px\",\"wrap\":true}}}],[{\"element\":\"table\",\"data\":[[\"Trend direction\",\"Not Significant\"],[\"Trend statistic\",\"0.5491\"],[\"Trend p-value\",\"0.5830\"]],\"elementProps\":{\"striped\":\"true\",\"noHeader\":true,\"title\":\"Overall Data Trend - PRECIPITATION_NONE_SPATIAL_NEIGHBORS\",\"0\":{\"align\":\"left\",\"pad\":\"0px\",\"wrap\":true},\"1\":{\"align\":\"right\",\"pad\":\"0px\",\"wrap\":true}}}],\"Succeeded at Monday, October 28, 2024 11:04:44 PM (Elapsed Time: 26.29 seconds)\"]' data-show='true'><div id = 'default' /></div></div>"
      ],
      "text/plain": [
       "<Result 'C:\\\\Users\\\\schil726\\\\Downloads\\\\GIS5571_Lab2\\\\prism\\\\PRISM_stcubes.nc'>"
      ]
     },
     "execution_count": 33,
     "metadata": {},
     "output_type": "execute_result"
    }
   ],
   "source": [
    "#and now, finally, create spacetime cubes!\n",
    "arcpy.stpm.CreateSpaceTimeCubeMDRasterLayer(\n",
    "    in_md_raster = \"Multidimensional_PRISM\",\n",
    "    output_cube = \"C:/Users/schil726/Downloads/GIS5571_Lab2/prism/PRISM_stcubes.nc\",\n",
    "    fill_empty_bins = \"SPATIAL_NEIGHBORS\",\n",
    ")"
   ]
  },
  {
   "cell_type": "code",
   "execution_count": null,
   "metadata": {},
   "outputs": [],
   "source": []
  }
 ],
 "metadata": {
  "kernelspec": {
   "display_name": "ArcGISPro",
   "language": "Python",
   "name": "python3"
  },
  "language_info": {
   "file_extension": ".py",
   "name": "python",
   "version": "3"
  }
 },
 "nbformat": 4,
 "nbformat_minor": 2
}
