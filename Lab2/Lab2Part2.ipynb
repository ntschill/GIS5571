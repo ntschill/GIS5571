{
 "cells": [
  {
   "cell_type": "markdown",
   "metadata": {},
   "source": [
    "# Lab 2 Part 2: Dory's Cost Surface"
   ]
  },
  {
   "cell_type": "code",
   "execution_count": 5,
   "metadata": {},
   "outputs": [],
   "source": [
    "import arcpy\n",
    "import requests\n",
    "import zipfile\n",
    "import os\n",
    "import numpy as np"
   ]
  },
  {
   "cell_type": "code",
   "execution_count": 14,
   "metadata": {},
   "outputs": [
    {
     "data": {
      "text/html": [
       "<div class='gpresult'><h2>Messages</h2><div id='messages' data-messages='[\"Start Time: Monday, October 28, 2024 11:55:02 PM\",\"Succeeded at Monday, October 28, 2024 11:55:03 PM (Elapsed Time: 1.50 seconds)\"]' data-show='true'><div id = 'default' /></div></div>"
      ],
      "text/plain": [
       "<Result 'C:\\\\Users\\\\schil726\\\\Documents\\\\ArcGIS\\\\Projects\\\\GIS5571_Lab2Pt2\\\\GIS5571_Lab2Pt2.gdb\\\\dory_AOI'>"
      ]
     },
     "execution_count": 14,
     "metadata": {},
     "output_type": "execute_result"
    }
   ],
   "source": [
    "#created a CSV with dory's start and end points, add to map\n",
    "arcpy.management.XYTableToPoint(\n",
    "    in_table = \"C:/Users/schil726/Downloads/dory_coords.csv\",\n",
    "    out_feature_class = \"dory_AOI\",\n",
    "    x_field = \"x\",\n",
    "    y_field = \"y\",\n",
    "    coordinate_system = arcpy.SpatialReference(4326),\n",
    ")"
   ]
  },
  {
   "cell_type": "code",
   "execution_count": 15,
   "metadata": {},
   "outputs": [
    {
     "data": {
      "text/html": [
       "<div class='gpresult'><h2>Messages</h2><div id='messages' data-messages='[\"Start Time: Monday, October 28, 2024 11:55:07 PM\",\"Succeeded at Monday, October 28, 2024 11:55:08 PM (Elapsed Time: 0.83 seconds)\"]' data-show='true'><div id = 'default' /></div></div>"
      ],
      "text/plain": [
       "<Result 'C:\\\\Users\\\\schil726\\\\Documents\\\\ArcGIS\\\\Projects\\\\GIS5571_Lab2Pt2\\\\GIS5571_Lab2Pt2.gdb\\\\dory_buffered_AOI'>"
      ]
     },
     "execution_count": 15,
     "metadata": {},
     "output_type": "execute_result"
    }
   ],
   "source": [
    "#buffer dorys points, this will serve as mask for data inputs\n",
    "arcpy.analysis.Buffer(\n",
    "    in_features = \"dory_AOI\",\n",
    "    out_feature_class = \"dory_buffered_AOI\",\n",
    "    buffer_distance_or_field = \"5 Miles\",\n",
    "    line_side = \"FULL\",\n",
    "    line_end_type = \"ROUND\",\n",
    "    dissolve_option = \"ALL\",\n",
    ")"
   ]
  },
  {
   "cell_type": "code",
   "execution_count": 25,
   "metadata": {},
   "outputs": [],
   "source": [
    "#define urls and make calls (in one big block) for data we need\n",
    "\n",
    "#30m DEM\n",
    "DEM_url = \"https://resources.gisdata.mn.gov/pub/gdrs/data/pub/us_mn_state_dnr/elev_30m_digital_elevation_model/fgdb_elev_30m_digital_elevation_model.zip\"\n",
    "DEM_response = requests.get(DEM_url)\n",
    "\n",
    "#land cover\n",
    "landcover_url = \"https://resources.gisdata.mn.gov/pub/gdrs/data/pub/us_mn_state_dnr/biota_landcover_nlcd_mn_2019/tif_biota_landcover_nlcd_mn_2019.zip\"\n",
    "landcover_response = requests.get(landcover_url)\n",
    "\n",
    "#road centerlines\n",
    "roads_url =\"https://resources.gisdata.mn.gov/pub/gdrs/data/pub/us_mn_state_dot/trans_roads_centerlines/shp_trans_roads_centerlines.zip\"\n",
    "roads_response = requests.get(roads_url)\n",
    "\n",
    "#bridges\n",
    "bridges_url = \"https://resources.gisdata.mn.gov/pub/gdrs/data/pub/us_mn_state_dot/trans_bridges/shp_trans_bridges.zip\"\n",
    "bridges_response = requests.get(bridges_url)\n",
    "\n",
    "#streams\n",
    "streams_url = 'https://resources.gisdata.mn.gov/pub/gdrs/data/pub/us_mn_state_dnr/water_strahler_stream_order/shp_water_strahler_stream_order.zip'\n",
    "streams_response = requests.get(streams_url)"
   ]
  },
  {
   "cell_type": "code",
   "execution_count": 26,
   "metadata": {},
   "outputs": [],
   "source": [
    "#i have too many urls so lets define a function to save and extract\n",
    "def save_locally_extract(response_dict, save_path):\n",
    "    for file_name, response in response_dict.items():\n",
    "         \n",
    "        with open(file_name, \"wb\") as file:\n",
    "            file.write(response.content)\n",
    "        \n",
    "        with zipfile.ZipFile(file_name, 'r') as zip_ref:\n",
    "            zip_ref.extractall(save_path)\n",
    "\n",
    "responses = {\n",
    "    \"DEM.zip\": DEM_response,\n",
    "    \"landcover.zip\": landcover_response,\n",
    "    \"roads.zip\": roads_response,\n",
    "    \"bridges.zip\": bridges_response,\n",
    "    \"streams.zip\": streams_response\n",
    "}\n",
    "   \n",
    "savepath = \"C:/Users/schil726/Downloads/GIS5571_Lab2/part2\"\n",
    "\n",
    "save_locally_extract(responses, savepath)"
   ]
  },
  {
   "cell_type": "code",
   "execution_count": 54,
   "metadata": {},
   "outputs": [],
   "source": [
    "#need all raster layers for cost surface\n",
    "def convert_to_raster(layers, cell_size, output_path):\n",
    "    for layer_name in layers:\n",
    "        output_raster = f\"{output_path}/{layer_name}_raster.tif\"\n",
    "        \n",
    "        desc = arcpy.Describe(layer_name)\n",
    "        if desc.shapeType == \"Point\":\n",
    "            arcpy.conversion.PointToRaster(\n",
    "                in_features = layer_name,\n",
    "                value_field = \"FID\",\n",
    "                out_rasterdataset = output_raster,\n",
    "                cell_assignment = \"MAXIMUM\",\n",
    "                cellsize = cell_size\n",
    "            )\n",
    "            \n",
    "        elif desc.shapeType == \"Polyline\":\n",
    "            arcpy.conversion.PolylineToRaster(\n",
    "                in_features = layer_name,\n",
    "                value_field = \"FID\",\n",
    "                out_rasterdataset = output_raster,\n",
    "                cellsize = cell_size\n",
    "            )\n",
    "            \n",
    "vector_layers = [\"streams\", \"roads\", \"bridges\"]\n",
    "cell_size = 30\n",
    "output_dir = \"C:/Users/schil726/Downloads/GIS5571_Lab2/part2/rasters\"\n",
    "        \n",
    "convert_to_raster(vector_layers, cell_size, output_dir)"
   ]
  },
  {
   "cell_type": "code",
   "execution_count": 56,
   "metadata": {},
   "outputs": [
    {
     "data": {
      "text/html": [
       "<div class='gpresult'><h2>Messages</h2><div id='messages' data-messages='[\"Start Time: Tuesday, October 29, 2024 2:23:04 AM\",\"No compatible GPU device has been detected.\",\"Succeeded at Tuesday, October 29, 2024 2:23:37 AM (Elapsed Time: 33.05 seconds)\"]' data-show='true'><div id = 'default' /></div></div>"
      ],
      "text/plain": [
       "<Result 'C:\\\\Users\\\\schil726\\\\Documents\\\\ArcGIS\\\\Projects\\\\GIS5571_Lab2Pt2\\\\GIS5571_Lab2Pt2.gdb\\\\slope'>"
      ]
     },
     "execution_count": 56,
     "metadata": {},
     "output_type": "execute_result"
    }
   ],
   "source": [
    "#create slope from DEM\n",
    "arcpy.ddd.Slope(\n",
    "    in_raster = \"30m_DEM\",\n",
    "    out_raster = \"slope\",\n",
    ")"
   ]
  },
  {
   "cell_type": "code",
   "execution_count": 61,
   "metadata": {},
   "outputs": [],
   "source": [
    "#clip by the buffered AOI (extract by mask)\n",
    "def clip_by_mask(raster_layers, mask, output_path):\n",
    "        for raster in raster_layers:\n",
    "            out_extract = arcpy.sa.ExtractByMask(\n",
    "                in_raster = raster,\n",
    "                in_mask_data = mask,\n",
    "                extraction_area = \"INSIDE\"\n",
    "                )\n",
    "            out_extract.save(f\"{output_dir}/{raster}_clipped.tif\")\n",
    "        \n",
    "raster_layers = [\"roads_raster.tif\", \"streams_raster.tif\", \"bridges_raster.tif\", \"NLCD_landcover\", \"30m_DEM\", \"slope\"]\n",
    "mask = \"dory_buffered_AOI\"\n",
    "output_dir = \"C:/Users\\schil726/Downloads/GIS5571_Lab2/part2/clipped\"\n",
    "\n",
    "clip_by_mask(raster_layers, mask, output_dir)"
   ]
  },
  {
   "cell_type": "markdown",
   "metadata": {},
   "source": [
    "## reclass time!"
   ]
  },
  {
   "cell_type": "code",
   "execution_count": 67,
   "metadata": {},
   "outputs": [
    {
     "data": {
      "text/html": [
       "<div class='gpresult'><h2>Messages</h2><div id='messages' data-messages='[\"Start Time: Tuesday, October 29, 2024 2:57:25 AM\",\"Succeeded at Tuesday, October 29, 2024 2:57:25 AM (Elapsed Time: 0.25 seconds)\"]' data-show='true'><div id = 'default' /></div></div>"
      ],
      "text/plain": [
       "<Result 'C:\\\\Users\\\\schil726\\\\Downloads\\\\GIS5571_Lab2\\\\part2\\\\reclass\\\\NLCD_landcover_reclass.tif'>"
      ]
     },
     "execution_count": 67,
     "metadata": {},
     "output_type": "execute_result"
    }
   ],
   "source": [
    "#reclassify NLCD\n",
    "arcpy.ddd.Reclassify(\n",
    "    in_raster = \"NLCD_landcover_clipped.tif\",\n",
    "    reclass_field = \"NLCD_Land\", \n",
    "    remap = \"'Open Water' 10;'Developed, Open Space' 2;'Developed, Low Intensity' 2;'Developed, Medium Intensity' 2;'Developed, High Intensity' 2;'Barren Land' 5;'Deciduous Forest' 7;'Evergreen Forest' 7;'Mixed Forest' 7;Shrub/Scrub 7;Herbaceous 7;Hay/Pasture 9;'Cultivated Crops' 9;'Woody Wetlands' 10;'Emergent Herbaceous Wetlands' 10\", \n",
    "    out_raster = \"C:/Users/schil726/Downloads/GIS5571_Lab2/part2/reclass/NLCD_landcover_reclass.tif\",\n",
    ")"
   ]
  },
  {
   "cell_type": "code",
   "execution_count": 68,
   "metadata": {},
   "outputs": [
    {
     "data": {
      "text/html": [
       "<div class='gpresult'><h2>Messages</h2><div id='messages' data-messages='[\"Start Time: Tuesday, October 29, 2024 2:57:44 AM\",\"Succeeded at Tuesday, October 29, 2024 2:57:44 AM (Elapsed Time: 0.23 seconds)\"]' data-show='true'><div id = 'default' /></div></div>"
      ],
      "text/plain": [
       "<Result 'C:\\\\Users\\\\schil726\\\\Downloads\\\\GIS5571_Lab2\\\\part2\\\\reclass\\\\slope_reclass.tif'>"
      ]
     },
     "execution_count": 68,
     "metadata": {},
     "output_type": "execute_result"
    }
   ],
   "source": [
    "#reclassify slope\n",
    "arcpy.ddd.Reclassify(\n",
    "    in_raster = \"slope_clipped.tif\",\n",
    "    reclass_field = \"VALUE\",\n",
    "    remap = \"0 2.940712 1;2.940712 6.763637 2;6.763637 11.762846 3;11.762846 21.173123 4;21.173123 74.988144 5\",\n",
    "    out_raster = \"C:/Users/schil726/Downloads/GIS5571_Lab2/part2/reclass/slope_reclass.tif\",\n",
    ")"
   ]
  },
  {
   "cell_type": "code",
   "execution_count": 69,
   "metadata": {},
   "outputs": [
    {
     "data": {
      "text/html": [
       "<div class='gpresult'><h2>Messages</h2><div id='messages' data-messages='[\"Start Time: Tuesday, October 29, 2024 3:00:07 AM\",\"Succeeded at Tuesday, October 29, 2024 3:00:07 AM (Elapsed Time: 0.28 seconds)\"]' data-show='true'><div id = 'default' /></div></div>"
      ],
      "text/plain": [
       "<Result 'C:\\\\Users\\\\schil726\\\\Downloads\\\\GIS5571_Lab2\\\\part2\\\\reclass\\\\stream_reclass.tif'>"
      ]
     },
     "execution_count": 69,
     "metadata": {},
     "output_type": "execute_result"
    }
   ],
   "source": [
    "#reclassify streams\n",
    "arcpy.ddd.Reclassify(\n",
    "   in_raster = \"streams_raster.tif_clipped.tif\",\n",
    "    reclass_field = \"VALUE\",\n",
    "    remap = \"1 1;2 2;3 3;4 7;5 8;6 9;8 10\",\n",
    "    out_raster = \"C:/Users/schil726/Downloads/GIS5571_Lab2/part2/reclass/stream_reclass.tif\",\n",
    ")"
   ]
  },
  {
   "cell_type": "code",
   "execution_count": 70,
   "metadata": {},
   "outputs": [
    {
     "data": {
      "text/html": [
       "<div class='gpresult'><h2>Messages</h2><div id='messages' data-messages='[\"Start Time: Tuesday, October 29, 2024 3:02:02 AM\",\"Succeeded at Tuesday, October 29, 2024 3:02:03 AM (Elapsed Time: 0.49 seconds)\"]' data-show='true'><div id = 'default' /></div></div>"
      ],
      "text/plain": [
       "<Result 'C:\\\\Users\\\\schil726\\\\Downloads\\\\GIS5571_Lab2\\\\part2\\\\reclass\\\\bridge_reclass.tif'>"
      ]
     },
     "execution_count": 70,
     "metadata": {},
     "output_type": "execute_result"
    }
   ],
   "source": [
    "#reclassify bridges\n",
    "arcpy.ddd.Reclassify(\n",
    "   in_raster = \"bridges_raster.tif_clipped.tif\",\n",
    "    reclass_field = \"VALUE\",\n",
    "    remap = \"1 1;2 2;3 3;4 7;5 8;6 9;8 10\",\n",
    "    out_raster = \"C:/Users/schil726/Downloads/GIS5571_Lab2/part2/reclass/bridge_reclass.tif\",\n",
    ")"
   ]
  },
  {
   "cell_type": "code",
   "execution_count": 71,
   "metadata": {},
   "outputs": [
    {
     "data": {
      "text/html": [
       "<div class='gpresult'><h2>Messages</h2><div id='messages' data-messages='[\"Start Time: Tuesday, October 29, 2024 3:02:47 AM\",\"Succeeded at Tuesday, October 29, 2024 3:02:47 AM (Elapsed Time: 0.22 seconds)\"]' data-show='true'><div id = 'default' /></div></div>"
      ],
      "text/plain": [
       "<Result 'C:\\\\Users\\\\schil726\\\\Downloads\\\\GIS5571_Lab2\\\\part2\\\\reclass\\\\road_reclass.tif'>"
      ]
     },
     "execution_count": 71,
     "metadata": {},
     "output_type": "execute_result"
    }
   ],
   "source": [
    "arcpy.ddd.Reclassify(\n",
    "   in_raster = \"roads_raster.tif_clipped.tif\",\n",
    "    reclass_field = \"VALUE\",\n",
    "    remap = \"1 1;2 2;3 3;4 7;5 8;6 9;8 10\",\n",
    "    out_raster = \"C:/Users/schil726/Downloads/GIS5571_Lab2/part2/reclass/road_reclass.tif\",\n",
    ")"
   ]
  },
  {
   "cell_type": "markdown",
   "metadata": {},
   "source": [
    "#### was there a better way to do that (i.e. define a function)? yes. but it's ok."
   ]
  },
  {
   "cell_type": "markdown",
   "metadata": {},
   "source": [
    "## cost surface"
   ]
  },
  {
   "cell_type": "code",
   "execution_count": 13,
   "metadata": {},
   "outputs": [],
   "source": [
    "#weight my layers\n",
    "weight_slope = 0.5\n",
    "weight_landcover = 0.2\n",
    "weight_streams = 0.1\n",
    "weight_roads = 0.1\n",
    "weight_bridges = 0.1\n",
    "\n",
    "#define inputs\n",
    "slope_raster = \"slope_reclass.tif\"\n",
    "landcover_raster = \"NLCD_landcover_reclass.tif\"\n",
    "streams_raster = \"stream_reclass.tif\"\n",
    "bridges_raster = \"bridge_reclass.tif\"\n",
    "roads_raster = \"road_reclass.tif\"\n",
    "\n",
    "#create cost surface raster\n",
    "weighted_cost_surface = (\n",
    "    (arcpy.sa.Raster(slope_raster)*weight_slope) +\n",
    "    (arcpy.sa.Raster(landcover_raster)*weight_landcover) +\n",
    "    (arcpy.sa.Raster(streams_raster)*weight_streams )+\n",
    "    (arcpy.sa.Raster(roads_raster)*weight_roads) +\n",
    "    (arcpy.sa.Raster(bridges_raster)*weight_bridges)\n",
    ")\n",
    "\n",
    "output_cost_surface_raster = \"C:/Users/schil726/Downloads/GIS5571_Lab2/part2/costsurface/cost_surface_raster.tif\"\n",
    "weighted_cost_surface.save(output_cost_surface_raster)"
   ]
  },
  {
   "cell_type": "code",
   "execution_count": 15,
   "metadata": {},
   "outputs": [],
   "source": [
    "#create cost distance\n",
    "out_cost_distance = (arcpy.sa.CostDistance(\n",
    "    in_source_data = \"dory_AOI\", \n",
    "    in_cost_raster = \"weighted_cost_surface\"\n",
    "))\n",
    "\n",
    "out_cost_distance.save(\"C:/Users/schil726/Downloads/GIS5571_Lab2/part2/costsurface/cost_distance.tif\")"
   ]
  }
 ],
 "metadata": {
  "kernelspec": {
   "display_name": "ArcGISPro",
   "language": "Python",
   "name": "python3"
  },
  "language_info": {
   "file_extension": ".py",
   "name": "python",
   "version": "3"
  }
 },
 "nbformat": 4,
 "nbformat_minor": 2
}
