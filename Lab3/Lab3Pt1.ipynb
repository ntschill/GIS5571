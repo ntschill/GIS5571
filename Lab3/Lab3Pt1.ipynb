{
 "cells": [
  {
   "cell_type": "markdown",
   "metadata": {},
   "source": [
    "## Lab 3 Part 1 Dory's Cost Paths"
   ]
  },
  {
   "cell_type": "code",
   "execution_count": 54,
   "metadata": {},
   "outputs": [],
   "source": [
    "import arcpy\n",
    "import requests\n",
    "import zipfile\n",
    "import os\n",
    "import numpy as np"
   ]
  },
  {
   "cell_type": "code",
   "execution_count": 62,
   "metadata": {},
   "outputs": [],
   "source": [
    "#even weight\n",
    "weight_slope = 0.5\n",
    "weight_landcover = 0.5\n",
    "\n",
    "#define inputs\n",
    "slope_raster = \"slope_reclass.tif\"\n",
    "landcover_raster = \"NLCD_landcover_reclass.tif\"\n",
    "\n",
    "#create cost surface raster\n",
    "evenlyweighted_cost_surface = (\n",
    "    (arcpy.sa.Raster(slope_raster)*weight_slope) +\n",
    "    (arcpy.sa.Raster(landcover_raster)*weight_landcover)\n",
    ")\n",
    "\n",
    "output_cost_surface_evenweight_raster = \"C:/Users/schil726/Downloads/GIS5571_Lab2/part2/costsurface/cost_surface_evenweight_raster.tif\"\n",
    "weighted_cost_surface.save(output_cost_surface_evenweight_raster)"
   ]
  },
  {
   "cell_type": "code",
   "execution_count": 64,
   "metadata": {},
   "outputs": [],
   "source": [
    "#more weight to slope\n",
    "weight_slope = 0.75\n",
    "weight_landcover = 0.25\n",
    "\n",
    "#define inputs\n",
    "slope_raster = \"slope_reclass.tif\"\n",
    "landcover_raster = \"NLCD_landcover_reclass.tif\"\n",
    "\n",
    "#create cost surface raster\n",
    "slopeweighted_cost_surface = (\n",
    "    (arcpy.sa.Raster(slope_raster)*weight_slope) +\n",
    "    (arcpy.sa.Raster(landcover_raster)*weight_landcover)\n",
    ")\n",
    "\n",
    "output_cost_surface_slopeweight_raster = \"C:/Users/schil726/Downloads/GIS5571_Lab2/part2/costsurface/cost_surface_slopeweight_raster.tif\"\n",
    "slopeweighted_cost_surface.save(output_cost_surface_slopeweight_raster)"
   ]
  },
  {
   "cell_type": "code",
   "execution_count": 66,
   "metadata": {},
   "outputs": [],
   "source": [
    "#more weight to land cover\n",
    "weight_slope = 0.25\n",
    "weight_landcover = 0.75\n",
    "\n",
    "#define inputs\n",
    "slope_raster = \"slope_reclass.tif\"\n",
    "landcover_raster = \"NLCD_landcover_reclass.tif\"\n",
    "\n",
    "#create cost surface raster\n",
    "landcoverweighted_cost_surface = (\n",
    "    (arcpy.sa.Raster(slope_raster)*weight_slope) +\n",
    "    (arcpy.sa.Raster(landcover_raster)*weight_landcover)\n",
    ")\n",
    "\n",
    "output_cost_surface_landcoverweight_raster = \"C:/Users/schil726/Downloads/GIS5571_Lab2/part2/costsurface/cost_surface_landcoverweight_raster.tif\"\n",
    "landcoverweighted_cost_surface.save(output_cost_surface_landuseweight_raster)"
   ]
  },
  {
   "cell_type": "code",
   "execution_count": 61,
   "metadata": {},
   "outputs": [],
   "source": [
    "#interate through each surface to make least Cost Path\n",
    "costsurfaces = [\"evenlyweighted_cost_surface\", \"slopeweighted_cost_surface\", \"landuseweighted_cost_surface\"]\n",
    "\n",
    "for costsurface in costsurfaces:\n",
    "    \n",
    "    arcpy.intelligence.LeastCostPath(\n",
    "        in_cost_surface = costsurface,\n",
    "        in_start_point = \"dory_in\",\n",
    "        in_end_point = \"dory_out\",\n",
    "        out_path_feature_class = fr\"C:\\Users\\schil726\\Downloads\\GIS5571_Lab2\\part2\\costpath\\{costdistance}_path\",\n",
    "        handle_zeros = \"SMALL_POSITIVE\"\n",
    "    )"
   ]
  },
  {
   "cell_type": "code",
   "execution_count": null,
   "metadata": {},
   "outputs": [],
   "source": []
  }
 ],
 "metadata": {
  "kernelspec": {
   "display_name": "ArcGISPro",
   "language": "Python",
   "name": "python3"
  },
  "language_info": {
   "file_extension": ".py",
   "name": "python",
   "version": "3"
  }
 },
 "nbformat": 4,
 "nbformat_minor": 2
}
