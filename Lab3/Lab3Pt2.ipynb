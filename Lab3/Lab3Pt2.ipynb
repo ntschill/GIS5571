{
 "cells": [
  {
   "cell_type": "code",
   "execution_count": 39,
   "metadata": {},
   "outputs": [],
   "source": [
    "import arcpy\n",
    "import requests\n",
    "import os\n",
    "from arcpy.sa import *"
   ]
  },
  {
   "cell_type": "code",
   "execution_count": 8,
   "metadata": {},
   "outputs": [],
   "source": [
    "#make call\n",
    "url = \"https://ndawn.ndsu.nodak.edu/table.csv?station=78&station=111&station=98&station=162&station=174&station=142&station=164&station=138&station=161&station=9&station=160&station=159&station=10&station=118&station=56&station=165&station=11&station=12&station=58&station=13&station=84&station=55&station=179&station=7&station=186&station=87&station=14&station=15&station=96&station=191&station=16&station=201&station=137&station=124&station=143&station=17&station=85&station=140&station=134&station=18&station=136&station=65&station=104&station=99&station=192&station=19&station=129&station=20&station=101&station=166&station=178&station=81&station=21&station=97&station=22&station=75&station=184&station=2&station=172&station=139&station=158&station=23&station=157&station=62&station=86&station=24&station=89&station=126&station=167&station=93&station=183&station=90&station=25&station=83&station=107&station=156&station=77&station=26&station=155&station=70&station=127&station=144&station=27&station=173&station=132&station=28&station=195&station=185&station=29&station=30&station=154&station=31&station=187&station=102&station=32&station=119&station=4&station=80&station=33&station=59&station=153&station=105&station=82&station=34&station=198&station=72&station=135&station=35&station=76&station=120&station=141&station=109&station=36&station=79&station=193&station=71&station=37&station=38&station=189&station=39&station=130&station=73&station=188&station=40&station=41&station=54&station=69&station=194&station=145&station=113&station=128&station=42&station=43&station=103&station=171&station=116&station=196&station=88&station=114&station=3&station=163&station=200&station=64&station=115&station=168&station=67&station=175&station=146&station=170&station=197&station=44&station=133&station=106&station=100&station=121&station=45&station=46&station=61&station=66&station=181&station=74&station=60&station=199&station=125&station=176&station=177&station=8&station=180&station=204&station=47&station=122&station=108&station=5&station=152&station=48&station=151&station=147&station=68&station=169&station=49&station=50&station=91&station=182&station=117&station=63&station=150&station=51&station=6&station=52&station=92&station=112&station=131&station=123&station=95&station=53&station=203&station=190&station=57&station=149&station=148&station=202&station=110&variable=ddavt&year=2023&ttype=daily&quick_pick=&begin_date=2024-10-25&end_date=2024-11-25\"\n",
    "response = requests.get(url)"
   ]
  },
  {
   "cell_type": "code",
   "execution_count": 9,
   "metadata": {},
   "outputs": [],
   "source": [
    "#set folder \n",
    "data_folder = r\"C:\\Users\\schil726\\Downloads\\GIS5571_Lab3\\data\""
   ]
  },
  {
   "cell_type": "code",
   "execution_count": 12,
   "metadata": {},
   "outputs": [],
   "source": [
    "#set path for csv and write url response to file\n",
    "csv_path = r\"C:\\Users\\schil726\\Downloads\\GIS5571_Lab3\\data\\NDAWN_tempature.csv\"\n",
    "\n",
    "with open(csv_path, \"wb\") as file:\n",
    "    file.write(response.content)"
   ]
  },
  {
   "cell_type": "code",
   "execution_count": 15,
   "metadata": {},
   "outputs": [
    {
     "data": {
      "text/html": [
       "<div>\n",
       "<style scoped>\n",
       "    .dataframe tbody tr th:only-of-type {\n",
       "        vertical-align: middle;\n",
       "    }\n",
       "\n",
       "    .dataframe tbody tr th {\n",
       "        vertical-align: top;\n",
       "    }\n",
       "\n",
       "    .dataframe thead th {\n",
       "        text-align: right;\n",
       "    }\n",
       "</style>\n",
       "<table border=\"1\" class=\"dataframe\">\n",
       "  <thead>\n",
       "    <tr style=\"text-align: right;\">\n",
       "      <th></th>\n",
       "      <th>Unnamed: 0</th>\n",
       "      <th>deg</th>\n",
       "      <th>deg.1</th>\n",
       "      <th>ft</th>\n",
       "      <th>Unnamed: 4</th>\n",
       "      <th>Unnamed: 5</th>\n",
       "      <th>Unnamed: 6</th>\n",
       "      <th>Degrees F</th>\n",
       "      <th>Unnamed: 8</th>\n",
       "    </tr>\n",
       "  </thead>\n",
       "  <tbody>\n",
       "    <tr>\n",
       "      <th>0</th>\n",
       "      <td>Ada</td>\n",
       "      <td>47.32119</td>\n",
       "      <td>-96.51406</td>\n",
       "      <td>910</td>\n",
       "      <td>2024</td>\n",
       "      <td>10</td>\n",
       "      <td>25</td>\n",
       "      <td>42.620</td>\n",
       "      <td>NaN</td>\n",
       "    </tr>\n",
       "    <tr>\n",
       "      <th>1</th>\n",
       "      <td>Ada</td>\n",
       "      <td>47.32119</td>\n",
       "      <td>-96.51406</td>\n",
       "      <td>910</td>\n",
       "      <td>2024</td>\n",
       "      <td>10</td>\n",
       "      <td>26</td>\n",
       "      <td>42.809</td>\n",
       "      <td>NaN</td>\n",
       "    </tr>\n",
       "    <tr>\n",
       "      <th>2</th>\n",
       "      <td>Ada</td>\n",
       "      <td>47.32119</td>\n",
       "      <td>-96.51406</td>\n",
       "      <td>910</td>\n",
       "      <td>2024</td>\n",
       "      <td>10</td>\n",
       "      <td>27</td>\n",
       "      <td>46.162</td>\n",
       "      <td>NaN</td>\n",
       "    </tr>\n",
       "    <tr>\n",
       "      <th>3</th>\n",
       "      <td>Ada</td>\n",
       "      <td>47.32119</td>\n",
       "      <td>-96.51406</td>\n",
       "      <td>910</td>\n",
       "      <td>2024</td>\n",
       "      <td>10</td>\n",
       "      <td>28</td>\n",
       "      <td>54.805</td>\n",
       "      <td>NaN</td>\n",
       "    </tr>\n",
       "    <tr>\n",
       "      <th>4</th>\n",
       "      <td>Ada</td>\n",
       "      <td>47.32119</td>\n",
       "      <td>-96.51406</td>\n",
       "      <td>910</td>\n",
       "      <td>2024</td>\n",
       "      <td>10</td>\n",
       "      <td>29</td>\n",
       "      <td>51.004</td>\n",
       "      <td>NaN</td>\n",
       "    </tr>\n",
       "    <tr>\n",
       "      <th>...</th>\n",
       "      <td>...</td>\n",
       "      <td>...</td>\n",
       "      <td>...</td>\n",
       "      <td>...</td>\n",
       "      <td>...</td>\n",
       "      <td>...</td>\n",
       "      <td>...</td>\n",
       "      <td>...</td>\n",
       "      <td>...</td>\n",
       "    </tr>\n",
       "    <tr>\n",
       "      <th>6171</th>\n",
       "      <td>Zeeland</td>\n",
       "      <td>46.01351</td>\n",
       "      <td>-99.68768</td>\n",
       "      <td>2070</td>\n",
       "      <td>2024</td>\n",
       "      <td>11</td>\n",
       "      <td>21</td>\n",
       "      <td>15.338</td>\n",
       "      <td>NaN</td>\n",
       "    </tr>\n",
       "    <tr>\n",
       "      <th>6172</th>\n",
       "      <td>Zeeland</td>\n",
       "      <td>46.01351</td>\n",
       "      <td>-99.68768</td>\n",
       "      <td>2070</td>\n",
       "      <td>2024</td>\n",
       "      <td>11</td>\n",
       "      <td>22</td>\n",
       "      <td>22.719</td>\n",
       "      <td>NaN</td>\n",
       "    </tr>\n",
       "    <tr>\n",
       "      <th>6173</th>\n",
       "      <td>Zeeland</td>\n",
       "      <td>46.01351</td>\n",
       "      <td>-99.68768</td>\n",
       "      <td>2070</td>\n",
       "      <td>2024</td>\n",
       "      <td>11</td>\n",
       "      <td>23</td>\n",
       "      <td>24.432</td>\n",
       "      <td>NaN</td>\n",
       "    </tr>\n",
       "    <tr>\n",
       "      <th>6174</th>\n",
       "      <td>Zeeland</td>\n",
       "      <td>46.01351</td>\n",
       "      <td>-99.68768</td>\n",
       "      <td>2070</td>\n",
       "      <td>2024</td>\n",
       "      <td>11</td>\n",
       "      <td>24</td>\n",
       "      <td>19.212</td>\n",
       "      <td>NaN</td>\n",
       "    </tr>\n",
       "    <tr>\n",
       "      <th>6175</th>\n",
       "      <td>Zeeland</td>\n",
       "      <td>46.01351</td>\n",
       "      <td>-99.68768</td>\n",
       "      <td>2070</td>\n",
       "      <td>2024</td>\n",
       "      <td>11</td>\n",
       "      <td>25</td>\n",
       "      <td>11.397</td>\n",
       "      <td>NaN</td>\n",
       "    </tr>\n",
       "  </tbody>\n",
       "</table>\n",
       "<p>6176 rows × 9 columns</p>\n",
       "</div>"
      ],
      "text/plain": [
       "     Unnamed: 0       deg     deg.1  ...  Unnamed: 6  Degrees F  Unnamed: 8\n",
       "0           Ada  47.32119 -96.51406  ...          25     42.620         NaN\n",
       "1           Ada  47.32119 -96.51406  ...          26     42.809         NaN\n",
       "2           Ada  47.32119 -96.51406  ...          27     46.162         NaN\n",
       "3           Ada  47.32119 -96.51406  ...          28     54.805         NaN\n",
       "4           Ada  47.32119 -96.51406  ...          29     51.004         NaN\n",
       "...         ...       ...       ...  ...         ...        ...         ...\n",
       "6171    Zeeland  46.01351 -99.68768  ...          21     15.338         NaN\n",
       "6172    Zeeland  46.01351 -99.68768  ...          22     22.719         NaN\n",
       "6173    Zeeland  46.01351 -99.68768  ...          23     24.432         NaN\n",
       "6174    Zeeland  46.01351 -99.68768  ...          24     19.212         NaN\n",
       "6175    Zeeland  46.01351 -99.68768  ...          25     11.397         NaN\n",
       "\n",
       "[6176 rows x 9 columns]"
      ]
     },
     "execution_count": 15,
     "metadata": {},
     "output_type": "execute_result"
    }
   ],
   "source": [
    "NDAWN_temperature = pd.read_csv(csv_path, header = 4)\n",
    "NDAWN_temperature"
   ]
  },
  {
   "cell_type": "code",
   "execution_count": 25,
   "metadata": {},
   "outputs": [
    {
     "data": {
      "text/html": [
       "<div>\n",
       "<style scoped>\n",
       "    .dataframe tbody tr th:only-of-type {\n",
       "        vertical-align: middle;\n",
       "    }\n",
       "\n",
       "    .dataframe tbody tr th {\n",
       "        vertical-align: top;\n",
       "    }\n",
       "\n",
       "    .dataframe thead th {\n",
       "        text-align: right;\n",
       "    }\n",
       "</style>\n",
       "<table border=\"1\" class=\"dataframe\">\n",
       "  <thead>\n",
       "    <tr style=\"text-align: right;\">\n",
       "      <th></th>\n",
       "      <th>Station</th>\n",
       "      <th>Latitude</th>\n",
       "      <th>Longitude</th>\n",
       "      <th>Avg Temp</th>\n",
       "      <th>MAX</th>\n",
       "      <th>MIN</th>\n",
       "    </tr>\n",
       "  </thead>\n",
       "  <tbody>\n",
       "    <tr>\n",
       "      <th>0</th>\n",
       "      <td>Ada</td>\n",
       "      <td>47.32119</td>\n",
       "      <td>-96.51406</td>\n",
       "      <td>42.620</td>\n",
       "      <td>42.620</td>\n",
       "      <td>42.620</td>\n",
       "    </tr>\n",
       "    <tr>\n",
       "      <th>1</th>\n",
       "      <td>Ada</td>\n",
       "      <td>47.32119</td>\n",
       "      <td>-96.51406</td>\n",
       "      <td>42.809</td>\n",
       "      <td>42.809</td>\n",
       "      <td>42.809</td>\n",
       "    </tr>\n",
       "    <tr>\n",
       "      <th>2</th>\n",
       "      <td>Ada</td>\n",
       "      <td>47.32119</td>\n",
       "      <td>-96.51406</td>\n",
       "      <td>46.162</td>\n",
       "      <td>46.162</td>\n",
       "      <td>46.162</td>\n",
       "    </tr>\n",
       "    <tr>\n",
       "      <th>3</th>\n",
       "      <td>Ada</td>\n",
       "      <td>47.32119</td>\n",
       "      <td>-96.51406</td>\n",
       "      <td>54.805</td>\n",
       "      <td>54.805</td>\n",
       "      <td>54.805</td>\n",
       "    </tr>\n",
       "    <tr>\n",
       "      <th>4</th>\n",
       "      <td>Ada</td>\n",
       "      <td>47.32119</td>\n",
       "      <td>-96.51406</td>\n",
       "      <td>51.004</td>\n",
       "      <td>51.004</td>\n",
       "      <td>51.004</td>\n",
       "    </tr>\n",
       "    <tr>\n",
       "      <th>...</th>\n",
       "      <td>...</td>\n",
       "      <td>...</td>\n",
       "      <td>...</td>\n",
       "      <td>...</td>\n",
       "      <td>...</td>\n",
       "      <td>...</td>\n",
       "    </tr>\n",
       "    <tr>\n",
       "      <th>6171</th>\n",
       "      <td>Zeeland</td>\n",
       "      <td>46.01351</td>\n",
       "      <td>-99.68768</td>\n",
       "      <td>15.338</td>\n",
       "      <td>15.338</td>\n",
       "      <td>15.338</td>\n",
       "    </tr>\n",
       "    <tr>\n",
       "      <th>6172</th>\n",
       "      <td>Zeeland</td>\n",
       "      <td>46.01351</td>\n",
       "      <td>-99.68768</td>\n",
       "      <td>22.719</td>\n",
       "      <td>22.719</td>\n",
       "      <td>22.719</td>\n",
       "    </tr>\n",
       "    <tr>\n",
       "      <th>6173</th>\n",
       "      <td>Zeeland</td>\n",
       "      <td>46.01351</td>\n",
       "      <td>-99.68768</td>\n",
       "      <td>24.432</td>\n",
       "      <td>24.432</td>\n",
       "      <td>24.432</td>\n",
       "    </tr>\n",
       "    <tr>\n",
       "      <th>6174</th>\n",
       "      <td>Zeeland</td>\n",
       "      <td>46.01351</td>\n",
       "      <td>-99.68768</td>\n",
       "      <td>19.212</td>\n",
       "      <td>19.212</td>\n",
       "      <td>19.212</td>\n",
       "    </tr>\n",
       "    <tr>\n",
       "      <th>6175</th>\n",
       "      <td>Zeeland</td>\n",
       "      <td>46.01351</td>\n",
       "      <td>-99.68768</td>\n",
       "      <td>11.397</td>\n",
       "      <td>11.397</td>\n",
       "      <td>11.397</td>\n",
       "    </tr>\n",
       "  </tbody>\n",
       "</table>\n",
       "<p>6176 rows × 6 columns</p>\n",
       "</div>"
      ],
      "text/plain": [
       "      Station  Latitude  Longitude  Avg Temp     MAX     MIN\n",
       "0         Ada  47.32119  -96.51406    42.620  42.620  42.620\n",
       "1         Ada  47.32119  -96.51406    42.809  42.809  42.809\n",
       "2         Ada  47.32119  -96.51406    46.162  46.162  46.162\n",
       "3         Ada  47.32119  -96.51406    54.805  54.805  54.805\n",
       "4         Ada  47.32119  -96.51406    51.004  51.004  51.004\n",
       "...       ...       ...        ...       ...     ...     ...\n",
       "6171  Zeeland  46.01351  -99.68768    15.338  15.338  15.338\n",
       "6172  Zeeland  46.01351  -99.68768    22.719  22.719  22.719\n",
       "6173  Zeeland  46.01351  -99.68768    24.432  24.432  24.432\n",
       "6174  Zeeland  46.01351  -99.68768    19.212  19.212  19.212\n",
       "6175  Zeeland  46.01351  -99.68768    11.397  11.397  11.397\n",
       "\n",
       "[6176 rows x 6 columns]"
      ]
     },
     "execution_count": 25,
     "metadata": {},
     "output_type": "execute_result"
    }
   ],
   "source": [
    "#drop columns, clean up column names, and add temperature min and max columns\n",
    "NDAWN_temperature.rename(columns={'Unnamed: 0':'Station', 'deg':'Lat', 'deg.1':'Long', 'Degrees F':'Avg Temp'}, inplace=True)\n",
    "NDAWN_temperature['MAX'] = NDAWN_temperature['Avg Temp']\n",
    "NDAWN_temperature['MIN'] = NDAWN_temperature['Avg Temp']\n",
    "drop_columns = [3, 4, 5, 6, 8]\n",
    "NDAWN_temperature = NDAWN_temperature.drop(columns=NDAWN_temperature.columns[drop_columns])\n",
    "NDAWN_temperature"
   ]
  },
  {
   "cell_type": "code",
   "execution_count": 26,
   "metadata": {},
   "outputs": [],
   "source": [
    "NDAWN_temperature_cleaned = NDAWN_temperature.to_csv(r\"C:\\Users\\schil726\\Downloads\\GIS5571_Lab3\\data\\NDAWN_temperature_cleaned.csv\")"
   ]
  },
  {
   "cell_type": "code",
   "execution_count": 27,
   "metadata": {},
   "outputs": [
    {
     "data": {
      "text/html": [
       "<div class='gpresult'><h2>Messages</h2><div id='messages' data-messages='[\"Start Time: Tuesday, November 26, 2024 9:06:16 PM\",\"Succeeded at Tuesday, November 26, 2024 9:06:18 PM (Elapsed Time: 1.84 seconds)\"]' data-show='true'><div id = 'default' /></div></div>"
      ],
      "text/plain": [
       "<Result 'C:\\\\Users\\\\schil726\\\\Downloads\\\\GIS5571_Lab3\\\\data\\\\NDAWN_stations.shp'>"
      ]
     },
     "execution_count": 27,
     "metadata": {},
     "output_type": "execute_result"
    }
   ],
   "source": [
    "#feature class via XY table to point\n",
    "arcpy.management.XYTableToPoint(\n",
    "    in_table = r\"C:\\Users\\schil726\\Downloads\\GIS5571_Lab3\\data\\NDAWN_temperature_cleaned.csv\",\n",
    "    out_feature_class = r\"C:\\Users\\schil726\\Downloads\\GIS5571_Lab3\\data\\NDAWN_stations\",\n",
    "    x_field = \"Longitude\",\n",
    "    y_field = \"Latitude\",\n",
    ")"
   ]
  },
  {
   "cell_type": "code",
   "execution_count": 29,
   "metadata": {},
   "outputs": [
    {
     "data": {
      "text/html": [
       "<div class='gpresult'><h2>Messages</h2><div id='messages' data-messages='[\"Start Time: Tuesday, November 26, 2024 9:12:02 PM\",\"Succeeded at Tuesday, November 26, 2024 9:12:04 PM (Elapsed Time: 1.93 seconds)\"]' data-show='true'><div id = 'default' /></div></div>"
      ],
      "text/plain": [
       "<Result 'C:\\\\Users\\\\schil726\\\\Downloads\\\\GIS5571_Lab3\\\\data\\\\IDW'>"
      ]
     },
     "execution_count": 29,
     "metadata": {},
     "output_type": "execute_result"
    }
   ],
   "source": [
    "#interpolation method 1: inverse distance weighting (IDW)\n",
    "arcpy.ddd.Idw(\n",
    "    in_point_features = \"NDAWN_stations\",\n",
    "    z_field = \"Avg_Temp\",\n",
    "    out_raster = r\"C:\\Users\\schil726\\Downloads\\GIS5571_Lab3\\data\\IDW\"\n",
    ")"
   ]
  },
  {
   "cell_type": "code",
   "execution_count": 38,
   "metadata": {},
   "outputs": [],
   "source": [
    "#interpolation method 2: kriging\n",
    "#set variables \n",
    "lagSize = 2000\n",
    "majorRange = 2.6\n",
    "partialSill = 542\n",
    "nugget = 0\n",
    "k_model = kModelOrdinary = KrigingModelOrdinary(\"SPHERICAL\", lagSize,\n",
    "                                majorRange, partialSill, nugget)\n",
    "\n",
    "kriging = arcpy.sa.Kriging(\n",
    "    in_point_features = \"NDAWN_stations\",\n",
    "    z_field = \"Avg_Temp\",\n",
    "    kriging_model = k_model,\n",
    ")\n",
    "\n",
    "kriging.save = (r\"C:\\Users\\schil726\\Downloads\\GIS5571_Lab3\\data\\kriging\")"
   ]
  },
  {
   "cell_type": "code",
   "execution_count": 40,
   "metadata": {},
   "outputs": [
    {
     "data": {
      "text/html": [
       "<div class='gpresult'><h2>Messages</h2><div id='messages' data-messages='[\"Start Time: Tuesday, November 26, 2024 9:25:29 PM\",\"Succeeded at Tuesday, November 26, 2024 9:25:30 PM (Elapsed Time: 1.21 seconds)\"]' data-show='true'><div id = 'default' /></div></div>"
      ],
      "text/plain": [
       "<Result ''>"
      ]
     },
     "execution_count": 40,
     "metadata": {},
     "output_type": "execute_result"
    }
   ],
   "source": [
    "#interpolation method 3: Global Polynomial Interpolation (GPI)\n",
    "arcpy.ga.GlobalPolynomialInterpolation(\n",
    "    in_features = \"NDAWN_stations\",\n",
    "    z_field = \"Avg_Temp\",\n",
    "    out_raster = r\"C:\\Users\\schil726\\Downloads\\GIS5571_Lab3\\data\\GPI\"\n",
    ")"
   ]
  },
  {
   "cell_type": "code",
   "execution_count": 42,
   "metadata": {},
   "outputs": [
    {
     "data": {
      "text/html": [
       "<div class='gpresult'><h2>Messages</h2><div id='messages' data-messages='[\"Start Time: Tuesday, November 26, 2024 9:30:35 PM\",\"Succeeded at Tuesday, November 26, 2024 9:30:36 PM (Elapsed Time: 0.98 seconds)\"]' data-show='true'><div id = 'default' /></div></div>"
      ],
      "text/plain": [
       "<Result ''>"
      ]
     },
     "execution_count": 42,
     "metadata": {},
     "output_type": "execute_result"
    }
   ],
   "source": [
    "#perform interpolation methods for min temp\n",
    "\n",
    "#interpolation method 1: inverse distance weighting (IDW)\n",
    "arcpy.ddd.Idw(\n",
    "    in_point_features = \"NDAWN_stations\",\n",
    "    z_field = \"MIN\",\n",
    "    out_raster = r\"C:\\Users\\schil726\\Downloads\\GIS5571_Lab3\\data\\IDW_min\"\n",
    ")\n",
    "\n",
    "#interpolation method 2: kriging\n",
    "#set variables \n",
    "lagSize = 2000\n",
    "majorRange = 2.6\n",
    "partialSill = 542\n",
    "nugget = 0\n",
    "k_model = kModelOrdinary = KrigingModelOrdinary(\"SPHERICAL\", lagSize,\n",
    "                                majorRange, partialSill, nugget)\n",
    "\n",
    "kriging_min = arcpy.sa.Kriging(\n",
    "    in_point_features = \"NDAWN_stations\",\n",
    "    z_field = \"MIN\",\n",
    "    kriging_model = k_model,\n",
    ")\n",
    "\n",
    "#interpolation method 3: Global Polynomial Interpolation (GPI)\n",
    "arcpy.ga.GlobalPolynomialInterpolation(\n",
    "    in_features = \"NDAWN_stations\",\n",
    "    z_field = \"MIN\",\n",
    "    out_raster = r\"C:\\Users\\schil726\\Downloads\\GIS5571_Lab3\\data\\GPI_min\"\n",
    ")"
   ]
  },
  {
   "cell_type": "code",
   "execution_count": 43,
   "metadata": {},
   "outputs": [
    {
     "data": {
      "text/html": [
       "<div class='gpresult'><h2>Messages</h2><div id='messages' data-messages='[\"Start Time: Tuesday, November 26, 2024 9:31:23 PM\",\"Succeeded at Tuesday, November 26, 2024 9:31:25 PM (Elapsed Time: 1.03 seconds)\"]' data-show='true'><div id = 'default' /></div></div>"
      ],
      "text/plain": [
       "<Result ''>"
      ]
     },
     "execution_count": 43,
     "metadata": {},
     "output_type": "execute_result"
    }
   ],
   "source": [
    "#perform interpolation methods for max temp\n",
    "\n",
    "#interpolation method 1: inverse distance weighting (IDW)\n",
    "arcpy.ddd.Idw(\n",
    "    in_point_features = \"NDAWN_stations\",\n",
    "    z_field = \"MAX\",\n",
    "    out_raster = r\"C:\\Users\\schil726\\Downloads\\GIS5571_Lab3\\data\\IDW_max\"\n",
    ")\n",
    "\n",
    "#interpolation method 2: kriging\n",
    "#set variables \n",
    "lagSize = 2000\n",
    "majorRange = 2.6\n",
    "partialSill = 542\n",
    "nugget = 0\n",
    "k_model = kModelOrdinary = KrigingModelOrdinary(\"SPHERICAL\", lagSize,\n",
    "                                majorRange, partialSill, nugget)\n",
    "\n",
    "kriging_max = arcpy.sa.Kriging(\n",
    "    in_point_features = \"NDAWN_stations\",\n",
    "    z_field = \"MAX\",\n",
    "    kriging_model = k_model,\n",
    ")\n",
    "\n",
    "#interpolation method 3: Global Polynomial Interpolation (GPI)\n",
    "arcpy.ga.GlobalPolynomialInterpolation(\n",
    "    in_features = \"NDAWN_stations\",\n",
    "    z_field = \"MAX\",\n",
    "    out_raster = r\"C:\\Users\\schil726\\Downloads\\GIS5571_Lab3\\data\\GPI_max\"\n",
    ")"
   ]
  },
  {
   "cell_type": "code",
   "execution_count": null,
   "metadata": {},
   "outputs": [],
   "source": []
  }
 ],
 "metadata": {
  "kernelspec": {
   "display_name": "ArcGISPro",
   "language": "Python",
   "name": "python3"
  },
  "language_info": {
   "file_extension": ".py",
   "name": "python",
   "version": "3"
  }
 },
 "nbformat": 4,
 "nbformat_minor": 2
}
